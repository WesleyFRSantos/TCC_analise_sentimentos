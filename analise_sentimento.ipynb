{
 "cells": [
  {
   "cell_type": "markdown",
   "metadata": {},
   "source": [
    "# INTRODUÇÃO\n",
    "\n",
    "Este notebook tem o objetivo de realizar a análise de sentimentos nos dados coletados do Twitter.  \n",
    "Para isso, será necessário treinar o modelo com uma base de dados de tweets já classificados como Positivos, Neutros ou Negativos.  \n",
    "Tanto a base de dados de treino como a de teste passarão por tratamentos de normalização dos textos, técnicas de tfidf, ngrams, entre outras.  \n",
    "No final, os tweets coletados serão classificados como Positivos, Neutros ou Negativos."
   ]
  },
  {
   "cell_type": "markdown",
   "metadata": {},
   "source": [
    "# PREPARAÇÃO"
   ]
  },
  {
   "cell_type": "markdown",
   "metadata": {},
   "source": [
    "#### IMPORTAÇÃO DAS BIBLIOTECAS"
   ]
  },
  {
   "cell_type": "code",
   "execution_count": 64,
   "metadata": {},
   "outputs": [],
   "source": [
    "import pandas as pd\n",
    "\n",
    "# TRATAMENTO DE TEXTOS\n",
    "import nltk\n",
    "from string import punctuation\n",
    "from nltk import tokenize\n",
    "import unidecode\n",
    "\n",
    "# MODELO\n",
    "from sklearn.feature_extraction.text import TfidfVectorizer\n",
    "from sklearn.linear_model import LogisticRegression\n",
    "\n",
    "#VISUALIZAÇÃO\n",
    "%matplotlib inline\n",
    "import matplotlib.pyplot as plt\n",
    "import seaborn as sns"
   ]
  },
  {
   "cell_type": "markdown",
   "metadata": {},
   "source": [
    "#### SUBINDO AS BASES DE TREINO E TESTE"
   ]
  },
  {
   "cell_type": "code",
   "execution_count": 20,
   "metadata": {},
   "outputs": [],
   "source": [
    "df_treino = pd.read_csv('tweets_treino.csv',sep=';')"
   ]
  },
  {
   "cell_type": "code",
   "execution_count": 5,
   "metadata": {},
   "outputs": [
    {
     "data": {
      "text/html": [
       "<div>\n",
       "<style scoped>\n",
       "    .dataframe tbody tr th:only-of-type {\n",
       "        vertical-align: middle;\n",
       "    }\n",
       "\n",
       "    .dataframe tbody tr th {\n",
       "        vertical-align: top;\n",
       "    }\n",
       "\n",
       "    .dataframe thead th {\n",
       "        text-align: right;\n",
       "    }\n",
       "</style>\n",
       "<table border=\"1\" class=\"dataframe\">\n",
       "  <thead>\n",
       "    <tr style=\"text-align: right;\">\n",
       "      <th></th>\n",
       "      <th>id</th>\n",
       "      <th>tweet_text</th>\n",
       "      <th>tweet_date</th>\n",
       "      <th>sentiment</th>\n",
       "      <th>query_used</th>\n",
       "    </tr>\n",
       "  </thead>\n",
       "  <tbody>\n",
       "    <tr>\n",
       "      <th>0</th>\n",
       "      <td>1050785521201541121</td>\n",
       "      <td>@Laranjito76 A pessoa certa para isso seria o ...</td>\n",
       "      <td>Fri Oct 12 16:29:25 +0000 2018</td>\n",
       "      <td>1</td>\n",
       "      <td>:)</td>\n",
       "    </tr>\n",
       "    <tr>\n",
       "      <th>1</th>\n",
       "      <td>1050785431955140608</td>\n",
       "      <td>@behin_d_curtain Para mim, é precisamente o co...</td>\n",
       "      <td>Fri Oct 12 16:29:04 +0000 2018</td>\n",
       "      <td>1</td>\n",
       "      <td>:)</td>\n",
       "    </tr>\n",
       "    <tr>\n",
       "      <th>2</th>\n",
       "      <td>1050785401248645120</td>\n",
       "      <td>Vou fazer um video hoje... estou pensando em f...</td>\n",
       "      <td>Fri Oct 12 16:28:56 +0000 2018</td>\n",
       "      <td>1</td>\n",
       "      <td>:)</td>\n",
       "    </tr>\n",
       "    <tr>\n",
       "      <th>3</th>\n",
       "      <td>1050785370982547461</td>\n",
       "      <td>aaaaaaaa amei tanto essas polaroids, nem sei e...</td>\n",
       "      <td>Fri Oct 12 16:28:49 +0000 2018</td>\n",
       "      <td>1</td>\n",
       "      <td>:)</td>\n",
       "    </tr>\n",
       "    <tr>\n",
       "      <th>4</th>\n",
       "      <td>1050785368902131713</td>\n",
       "      <td>Valoriza o coração do menininho que vc tem. El...</td>\n",
       "      <td>Fri Oct 12 16:28:49 +0000 2018</td>\n",
       "      <td>1</td>\n",
       "      <td>:)</td>\n",
       "    </tr>\n",
       "  </tbody>\n",
       "</table>\n",
       "</div>"
      ],
      "text/plain": [
       "                    id                                         tweet_text  \\\n",
       "0  1050785521201541121  @Laranjito76 A pessoa certa para isso seria o ...   \n",
       "1  1050785431955140608  @behin_d_curtain Para mim, é precisamente o co...   \n",
       "2  1050785401248645120  Vou fazer um video hoje... estou pensando em f...   \n",
       "3  1050785370982547461  aaaaaaaa amei tanto essas polaroids, nem sei e...   \n",
       "4  1050785368902131713  Valoriza o coração do menininho que vc tem. El...   \n",
       "\n",
       "                       tweet_date  sentiment query_used  \n",
       "0  Fri Oct 12 16:29:25 +0000 2018          1         :)  \n",
       "1  Fri Oct 12 16:29:04 +0000 2018          1         :)  \n",
       "2  Fri Oct 12 16:28:56 +0000 2018          1         :)  \n",
       "3  Fri Oct 12 16:28:49 +0000 2018          1         :)  \n",
       "4  Fri Oct 12 16:28:49 +0000 2018          1         :)  "
      ]
     },
     "execution_count": 5,
     "metadata": {},
     "output_type": "execute_result"
    }
   ],
   "source": [
    "df_treino.head()"
   ]
  },
  {
   "cell_type": "code",
   "execution_count": 12,
   "metadata": {},
   "outputs": [],
   "source": [
    "df_teste = pd.read_csv('resultados_coleta.csv')"
   ]
  },
  {
   "cell_type": "code",
   "execution_count": 19,
   "metadata": {},
   "outputs": [
    {
     "data": {
      "text/html": [
       "<div>\n",
       "<style scoped>\n",
       "    .dataframe tbody tr th:only-of-type {\n",
       "        vertical-align: middle;\n",
       "    }\n",
       "\n",
       "    .dataframe tbody tr th {\n",
       "        vertical-align: top;\n",
       "    }\n",
       "\n",
       "    .dataframe thead th {\n",
       "        text-align: right;\n",
       "    }\n",
       "</style>\n",
       "<table border=\"1\" class=\"dataframe\">\n",
       "  <thead>\n",
       "    <tr style=\"text-align: right;\">\n",
       "      <th></th>\n",
       "      <th>tweets</th>\n",
       "      <th>time</th>\n",
       "    </tr>\n",
       "  </thead>\n",
       "  <tbody>\n",
       "    <tr>\n",
       "      <th>0</th>\n",
       "      <td>Boa tarde pra vcs! Em homenagem ao dia do vete...</td>\n",
       "      <td>2021-09-09 15:45:45</td>\n",
       "    </tr>\n",
       "    <tr>\n",
       "      <th>1</th>\n",
       "      <td>100% mãe de pet, acalmando o filho que tá com ...</td>\n",
       "      <td>2021-09-09 15:47:34</td>\n",
       "    </tr>\n",
       "    <tr>\n",
       "      <th>2</th>\n",
       "      <td>Achei foto dos pet da minha tia quando era nen...</td>\n",
       "      <td>2021-09-09 15:51:40</td>\n",
       "    </tr>\n",
       "    <tr>\n",
       "      <th>3</th>\n",
       "      <td>Malu tá no pet desde as 8 da manhã e eu tô sen...</td>\n",
       "      <td>2021-09-09 15:54:06</td>\n",
       "    </tr>\n",
       "    <tr>\n",
       "      <th>4</th>\n",
       "      <td>Vai ter mutirão de vacinação animal na UBS pet...</td>\n",
       "      <td>2021-09-09 15:54:11</td>\n",
       "    </tr>\n",
       "  </tbody>\n",
       "</table>\n",
       "</div>"
      ],
      "text/plain": [
       "                                              tweets                 time\n",
       "0  Boa tarde pra vcs! Em homenagem ao dia do vete...  2021-09-09 15:45:45\n",
       "1  100% mãe de pet, acalmando o filho que tá com ...  2021-09-09 15:47:34\n",
       "2  Achei foto dos pet da minha tia quando era nen...  2021-09-09 15:51:40\n",
       "3  Malu tá no pet desde as 8 da manhã e eu tô sen...  2021-09-09 15:54:06\n",
       "4  Vai ter mutirão de vacinação animal na UBS pet...  2021-09-09 15:54:11"
      ]
     },
     "execution_count": 19,
     "metadata": {},
     "output_type": "execute_result"
    }
   ],
   "source": [
    "df_teste.head()"
   ]
  },
  {
   "cell_type": "markdown",
   "metadata": {},
   "source": [
    "# TRATAMENTO"
   ]
  },
  {
   "cell_type": "markdown",
   "metadata": {},
   "source": [
    "#### DROPANDO NULOS E CRIANDO COLUNA DE CLASSIFICAÇÃO"
   ]
  },
  {
   "cell_type": "code",
   "execution_count": 21,
   "metadata": {},
   "outputs": [],
   "source": [
    "df_treino = df_treino.dropna(subset=['tweet_text', 'sentiment'])"
   ]
  },
  {
   "cell_type": "code",
   "execution_count": 22,
   "metadata": {},
   "outputs": [],
   "source": [
    "df_treino = df_treino[['tweet_text', 'tweet_date', 'sentiment']]"
   ]
  },
  {
   "cell_type": "code",
   "execution_count": 23,
   "metadata": {},
   "outputs": [],
   "source": [
    "df_treino['classificacao'] = df_treino['sentiment'].apply(lambda x : 'Positivo' if x == 1 else 'Neutro' if x == 2 else 'Negativo')"
   ]
  },
  {
   "cell_type": "markdown",
   "metadata": {},
   "source": [
    "#### BALANCEAMENTO\n",
    "\n",
    "É de grande importância que os dados de treino estejam balanceados, para que o modelo não seja enviesado e gere over fitting.  \n",
    "  \n",
    "Para entender melhor sobre Over Fitting: http://www.feat.engineering/important-concepts.html"
   ]
  },
  {
   "cell_type": "code",
   "execution_count": 24,
   "metadata": {},
   "outputs": [
    {
     "data": {
      "text/plain": [
       "Positivo    33334\n",
       "Negativo    33333\n",
       "Neutro      33333\n",
       "Name: classificacao, dtype: int64"
      ]
     },
     "execution_count": 24,
     "metadata": {},
     "output_type": "execute_result"
    }
   ],
   "source": [
    "df_treino['classificacao'].value_counts()"
   ]
  },
  {
   "cell_type": "code",
   "execution_count": 25,
   "metadata": {},
   "outputs": [
    {
     "data": {
      "text/plain": [
       "<AxesSubplot:>"
      ]
     },
     "execution_count": 25,
     "metadata": {},
     "output_type": "execute_result"
    },
    {
     "data": {
      "image/png": "[encoded data removed]",
      "text/plain": [
       "<Figure size 432x288 with 1 Axes>"
      ]
     },
     "metadata": {
      "needs_background": "light"
     },
     "output_type": "display_data"
    }
   ],
   "source": [
    "df_treino['classificacao'].hist()"
   ]
  },
  {
   "cell_type": "markdown",
   "metadata": {},
   "source": [
    "#### FUNÇÃO DE TRATAMENTO DOS TEXTOS"
   ]
  },
  {
   "cell_type": "code",
   "execution_count": 38,
   "metadata": {},
   "outputs": [],
   "source": [
    "def tratar(df, coluna):\n",
    "\n",
    "  palavras_irrelevantes = nltk.corpus.stopwords.words(\"portuguese\")\n",
    "  pontuacao = []\n",
    "  for ponto in punctuation:\n",
    "    pontuacao.append(ponto)\n",
    "  pontuacao_stopwords = pontuacao + palavras_irrelevantes\n",
    "  token_pontuacao = tokenize.WordPunctTokenizer()\n",
    "  sem_acentos = [unidecode.unidecode(texto) for texto in df[coluna]]\n",
    "  stopwords_sem_acentos = [unidecode.unidecode(texto) for texto in pontuacao_stopwords]\n",
    "  stemmer = nltk.RSLPStemmer()\n",
    "\n",
    "  df['texto_tratado'] = sem_acentos\n",
    "\n",
    "  frase_processada = []\n",
    "\n",
    "  for texto in df['texto_tratado']:\n",
    "    \n",
    "    nova_frase = []\n",
    "    texto = texto.lower()\n",
    "    texto = texto.replace('rt ','')\n",
    "    texto = texto.replace('http','')\n",
    "    texto = texto.replace('...','')\n",
    "    texto = texto.replace('://','')\n",
    "    texto = texto.replace('..','')\n",
    "    palavras_texto = token_pontuacao.tokenize(texto)\n",
    "    for palavra in palavras_texto:\n",
    "        if palavra not in pontuacao_stopwords:\n",
    "            nova_frase.append(stemmer.stem(palavra))\n",
    "    frase_processada.append(' '.join(nova_frase))\n",
    "\n",
    "  df['texto_tratado'] = frase_processada"
   ]
  },
  {
   "cell_type": "code",
   "execution_count": 39,
   "metadata": {},
   "outputs": [],
   "source": [
    "tratar(df_treino,'tweet_text')"
   ]
  },
  {
   "cell_type": "code",
   "execution_count": 42,
   "metadata": {},
   "outputs": [
    {
     "data": {
      "text/html": [
       "<div>\n",
       "<style scoped>\n",
       "    .dataframe tbody tr th:only-of-type {\n",
       "        vertical-align: middle;\n",
       "    }\n",
       "\n",
       "    .dataframe tbody tr th {\n",
       "        vertical-align: top;\n",
       "    }\n",
       "\n",
       "    .dataframe thead th {\n",
       "        text-align: right;\n",
       "    }\n",
       "</style>\n",
       "<table border=\"1\" class=\"dataframe\">\n",
       "  <thead>\n",
       "    <tr style=\"text-align: right;\">\n",
       "      <th></th>\n",
       "      <th>tweet_text</th>\n",
       "      <th>tweet_date</th>\n",
       "      <th>sentiment</th>\n",
       "      <th>classificacao</th>\n",
       "      <th>texto_tratado</th>\n",
       "    </tr>\n",
       "  </thead>\n",
       "  <tbody>\n",
       "    <tr>\n",
       "      <th>47228</th>\n",
       "      <td>🐝 viviheon. thats it. thats the tweet. meu nen...</td>\n",
       "      <td>Tue Oct 02 03:56:22 +0000 2018</td>\n",
       "      <td>0</td>\n",
       "      <td>Negativo</td>\n",
       "      <td>viviheon that it that the tweet nen demal q od...</td>\n",
       "    </tr>\n",
       "    <tr>\n",
       "      <th>88352</th>\n",
       "      <td>Adoro está selva de pedra. #SAMPA #reunioes #p...</td>\n",
       "      <td>Thu Oct 18 14:52:56 +0000 2018</td>\n",
       "      <td>2</td>\n",
       "      <td>Neutro</td>\n",
       "      <td>ador selv pedr samp reunio pesquis dissertacao...</td>\n",
       "    </tr>\n",
       "    <tr>\n",
       "      <th>88002</th>\n",
       "      <td>Autismo é tema de campanha e será discutido em...</td>\n",
       "      <td>Fri Oct 19 18:21:24 +0000 2018</td>\n",
       "      <td>2</td>\n",
       "      <td>Neutro</td>\n",
       "      <td>aut tem campanh ser discut audienc publ saib s...</td>\n",
       "    </tr>\n",
       "    <tr>\n",
       "      <th>8184</th>\n",
       "      <td>Meu canal de bad fav apoia o bololo :)) https:...</td>\n",
       "      <td>Mon Oct 08 02:21:44 +0000 2018</td>\n",
       "      <td>1</td>\n",
       "      <td>Positivo</td>\n",
       "      <td>canal bad fav apo bolol :)) st co qg4qqpmeay</td>\n",
       "    </tr>\n",
       "    <tr>\n",
       "      <th>45359</th>\n",
       "      <td>fico irriradissima quando me chamam de mariana...</td>\n",
       "      <td>Tue Oct 02 08:31:02 +0000 2018</td>\n",
       "      <td>0</td>\n",
       "      <td>Negativo</td>\n",
       "      <td>fic irriradiss cham mari gt ;:(</td>\n",
       "    </tr>\n",
       "  </tbody>\n",
       "</table>\n",
       "</div>"
      ],
      "text/plain": [
       "                                              tweet_text  \\\n",
       "47228  🐝 viviheon. thats it. thats the tweet. meu nen...   \n",
       "88352  Adoro está selva de pedra. #SAMPA #reunioes #p...   \n",
       "88002  Autismo é tema de campanha e será discutido em...   \n",
       "8184   Meu canal de bad fav apoia o bololo :)) https:...   \n",
       "45359  fico irriradissima quando me chamam de mariana...   \n",
       "\n",
       "                           tweet_date  sentiment classificacao  \\\n",
       "47228  Tue Oct 02 03:56:22 +0000 2018          0      Negativo   \n",
       "88352  Thu Oct 18 14:52:56 +0000 2018          2        Neutro   \n",
       "88002  Fri Oct 19 18:21:24 +0000 2018          2        Neutro   \n",
       "8184   Mon Oct 08 02:21:44 +0000 2018          1      Positivo   \n",
       "45359  Tue Oct 02 08:31:02 +0000 2018          0      Negativo   \n",
       "\n",
       "                                           texto_tratado  \n",
       "47228  viviheon that it that the tweet nen demal q od...  \n",
       "88352  ador selv pedr samp reunio pesquis dissertacao...  \n",
       "88002  aut tem campanh ser discut audienc publ saib s...  \n",
       "8184        canal bad fav apo bolol :)) st co qg4qqpmeay  \n",
       "45359                    fic irriradiss cham mari gt ;:(  "
      ]
     },
     "execution_count": 42,
     "metadata": {},
     "output_type": "execute_result"
    }
   ],
   "source": [
    "df_treino.sample(5)"
   ]
  },
  {
   "cell_type": "markdown",
   "metadata": {},
   "source": [
    "# TESTE"
   ]
  },
  {
   "cell_type": "code",
   "execution_count": 49,
   "metadata": {},
   "outputs": [],
   "source": [
    "tratar(df_teste,'tweets')"
   ]
  },
  {
   "cell_type": "code",
   "execution_count": 50,
   "metadata": {},
   "outputs": [
    {
     "data": {
      "text/html": [
       "<div>\n",
       "<style scoped>\n",
       "    .dataframe tbody tr th:only-of-type {\n",
       "        vertical-align: middle;\n",
       "    }\n",
       "\n",
       "    .dataframe tbody tr th {\n",
       "        vertical-align: top;\n",
       "    }\n",
       "\n",
       "    .dataframe thead th {\n",
       "        text-align: right;\n",
       "    }\n",
       "</style>\n",
       "<table border=\"1\" class=\"dataframe\">\n",
       "  <thead>\n",
       "    <tr style=\"text-align: right;\">\n",
       "      <th></th>\n",
       "      <th>tweets</th>\n",
       "      <th>time</th>\n",
       "      <th>texto_tratado</th>\n",
       "    </tr>\n",
       "  </thead>\n",
       "  <tbody>\n",
       "    <tr>\n",
       "      <th>0</th>\n",
       "      <td>Boa tarde pra vcs! Em homenagem ao dia do vete...</td>\n",
       "      <td>2021-09-09 15:45:45</td>\n",
       "      <td>boa tard pra vc homen dia veterinari quer deix...</td>\n",
       "    </tr>\n",
       "    <tr>\n",
       "      <th>1</th>\n",
       "      <td>100% mãe de pet, acalmando o filho que tá com ...</td>\n",
       "      <td>2021-09-09 15:47:34</td>\n",
       "      <td>100 mae pet acalm filh ta med barulh st co zn8...</td>\n",
       "    </tr>\n",
       "    <tr>\n",
       "      <th>2</th>\n",
       "      <td>Achei foto dos pet da minha tia quando era nen...</td>\n",
       "      <td>2021-09-09 15:51:40</td>\n",
       "      <td>ach fot pet tia nen heh gat aparec loj pai ai ...</td>\n",
       "    </tr>\n",
       "    <tr>\n",
       "      <th>3</th>\n",
       "      <td>Malu tá no pet desde as 8 da manhã e eu tô sen...</td>\n",
       "      <td>2021-09-09 15:54:06</td>\n",
       "      <td>malu ta pet desd 8 manh to sent tant falt ja</td>\n",
       "    </tr>\n",
       "    <tr>\n",
       "      <th>4</th>\n",
       "      <td>Vai ter mutirão de vacinação animal na UBS pet...</td>\n",
       "      <td>2021-09-09 15:54:11</td>\n",
       "      <td>vai ter mutira vacinaca animal ub pet amanh na...</td>\n",
       "    </tr>\n",
       "  </tbody>\n",
       "</table>\n",
       "</div>"
      ],
      "text/plain": [
       "                                              tweets                 time  \\\n",
       "0  Boa tarde pra vcs! Em homenagem ao dia do vete...  2021-09-09 15:45:45   \n",
       "1  100% mãe de pet, acalmando o filho que tá com ...  2021-09-09 15:47:34   \n",
       "2  Achei foto dos pet da minha tia quando era nen...  2021-09-09 15:51:40   \n",
       "3  Malu tá no pet desde as 8 da manhã e eu tô sen...  2021-09-09 15:54:06   \n",
       "4  Vai ter mutirão de vacinação animal na UBS pet...  2021-09-09 15:54:11   \n",
       "\n",
       "                                       texto_tratado  \n",
       "0  boa tard pra vc homen dia veterinari quer deix...  \n",
       "1  100 mae pet acalm filh ta med barulh st co zn8...  \n",
       "2  ach fot pet tia nen heh gat aparec loj pai ai ...  \n",
       "3       malu ta pet desd 8 manh to sent tant falt ja  \n",
       "4  vai ter mutira vacinaca animal ub pet amanh na...  "
      ]
     },
     "execution_count": 50,
     "metadata": {},
     "output_type": "execute_result"
    }
   ],
   "source": [
    "df_teste.head()"
   ]
  },
  {
   "cell_type": "markdown",
   "metadata": {},
   "source": [
    "#### FUNÇÃO DE CLASSIFICAÇÃO"
   ]
  },
  {
   "cell_type": "code",
   "execution_count": 48,
   "metadata": {},
   "outputs": [],
   "source": [
    "regressao_logistica = LogisticRegression()"
   ]
  },
  {
   "cell_type": "code",
   "execution_count": 46,
   "metadata": {},
   "outputs": [],
   "source": [
    "def classificar(df, texto, sentimento, df_teste, texto_teste):\n",
    "  tfidf = TfidfVectorizer(lowercase=False,ngram_range=(1,2))\n",
    "\n",
    "  treino_tfidf = tfidf.fit_transform(df[texto])\n",
    "  teste_tfidf = tfidf.transform(df_teste[texto_teste]).todense()\n",
    "\n",
    "  treino = treino_tfidf\n",
    "  classe_treino = df[sentimento]\n",
    "  teste = teste_tfidf\n",
    "\n",
    "  regressao_logistica.fit(treino,classe_treino)\n",
    "\n",
    "  classificacao = regressao_logistica.predict(teste)\n",
    "\n",
    "  df_teste['sentimento'] = classificacao"
   ]
  },
  {
   "cell_type": "code",
   "execution_count": 51,
   "metadata": {},
   "outputs": [
    {
     "name": "stderr",
     "output_type": "stream",
     "text": [
      "C:\\Users\\Wesley Ribeiro\\AppData\\Local\\Programs\\Python\\Python39\\lib\\site-packages\\sklearn\\linear_model\\_logistic.py:763: ConvergenceWarning: lbfgs failed to converge (status=1):\n",
      "STOP: TOTAL NO. of ITERATIONS REACHED LIMIT.\n",
      "\n",
      "Increase the number of iterations (max_iter) or scale the data as shown in:\n",
      "    https://scikit-learn.org/stable/modules/preprocessing.html\n",
      "Please also refer to the documentation for alternative solver options:\n",
      "    https://scikit-learn.org/stable/modules/linear_model.html#logistic-regression\n",
      "  n_iter_i = _check_optimize_result(\n"
     ]
    }
   ],
   "source": [
    "classificar(df_treino, 'texto_tratado', 'classificacao', df_teste, 'texto_tratado')"
   ]
  },
  {
   "cell_type": "code",
   "execution_count": 52,
   "metadata": {},
   "outputs": [],
   "source": [
    "df_teste = df_teste[['time','tweets', 'texto_tratado', 'sentimento']]"
   ]
  },
  {
   "cell_type": "code",
   "execution_count": 58,
   "metadata": {},
   "outputs": [
    {
     "data": {
      "text/html": [
       "<div>\n",
       "<style scoped>\n",
       "    .dataframe tbody tr th:only-of-type {\n",
       "        vertical-align: middle;\n",
       "    }\n",
       "\n",
       "    .dataframe tbody tr th {\n",
       "        vertical-align: top;\n",
       "    }\n",
       "\n",
       "    .dataframe thead th {\n",
       "        text-align: right;\n",
       "    }\n",
       "</style>\n",
       "<table border=\"1\" class=\"dataframe\">\n",
       "  <thead>\n",
       "    <tr style=\"text-align: right;\">\n",
       "      <th></th>\n",
       "      <th>time</th>\n",
       "      <th>tweets</th>\n",
       "      <th>texto_tratado</th>\n",
       "      <th>sentimento</th>\n",
       "    </tr>\n",
       "  </thead>\n",
       "  <tbody>\n",
       "    <tr>\n",
       "      <th>8966</th>\n",
       "      <td>2021-09-30 22:14:03</td>\n",
       "      <td>eu sou nervosinha quando vou apresentar QUALQU...</td>\n",
       "      <td>nervos vou apresent qualqu cois ne dai ont int...</td>\n",
       "      <td>Positivo</td>\n",
       "    </tr>\n",
       "    <tr>\n",
       "      <th>1680</th>\n",
       "      <td>2021-09-14 13:10:29</td>\n",
       "      <td>Bom diaaa vou la no pet shop gastar 300 reais</td>\n",
       "      <td>bom diaa vou la pet shop gast 300 real</td>\n",
       "      <td>Positivo</td>\n",
       "    </tr>\n",
       "    <tr>\n",
       "      <th>5352</th>\n",
       "      <td>2021-09-23 16:32:13</td>\n",
       "      <td>tu tem pet e não chama de filho?? perai pô</td>\n",
       "      <td>pet nao cham filh ?? per po</td>\n",
       "      <td>Negativo</td>\n",
       "    </tr>\n",
       "    <tr>\n",
       "      <th>8053</th>\n",
       "      <td>2021-09-28 23:02:34</td>\n",
       "      <td>gastando o que tenho e o que não tenho p pagar...</td>\n",
       "      <td>gast nao p pag tod gast pet leon pi sensaca te...</td>\n",
       "      <td>Negativo</td>\n",
       "    </tr>\n",
       "    <tr>\n",
       "      <th>2128</th>\n",
       "      <td>2021-09-14 21:00:12</td>\n",
       "      <td>🤖  Seleção de Tutor Pet – Licenciatura em Quím...</td>\n",
       "      <td>seleca tut pet licenciat quim campu arapirac -...</td>\n",
       "      <td>Neutro</td>\n",
       "    </tr>\n",
       "  </tbody>\n",
       "</table>\n",
       "</div>"
      ],
      "text/plain": [
       "                     time                                             tweets  \\\n",
       "8966  2021-09-30 22:14:03  eu sou nervosinha quando vou apresentar QUALQU...   \n",
       "1680  2021-09-14 13:10:29      Bom diaaa vou la no pet shop gastar 300 reais   \n",
       "5352  2021-09-23 16:32:13         tu tem pet e não chama de filho?? perai pô   \n",
       "8053  2021-09-28 23:02:34  gastando o que tenho e o que não tenho p pagar...   \n",
       "2128  2021-09-14 21:00:12  🤖  Seleção de Tutor Pet – Licenciatura em Quím...   \n",
       "\n",
       "                                          texto_tratado sentimento  \n",
       "8966  nervos vou apresent qualqu cois ne dai ont int...   Positivo  \n",
       "1680             bom diaa vou la pet shop gast 300 real   Positivo  \n",
       "5352                        pet nao cham filh ?? per po   Negativo  \n",
       "8053  gast nao p pag tod gast pet leon pi sensaca te...   Negativo  \n",
       "2128  seleca tut pet licenciat quim campu arapirac -...     Neutro  "
      ]
     },
     "execution_count": 58,
     "metadata": {},
     "output_type": "execute_result"
    }
   ],
   "source": [
    "df_teste.sample(5)"
   ]
  },
  {
   "cell_type": "markdown",
   "metadata": {},
   "source": [
    "#### ANÁLISE DOS RESULTADOS"
   ]
  },
  {
   "cell_type": "code",
   "execution_count": 59,
   "metadata": {},
   "outputs": [
    {
     "data": {
      "text/plain": [
       "['Boa tarde pra vcs! Em homenagem ao dia do veterinário, quero deixar o meu abraço a esses profissionais que cuidam dos nossos amores! Em especial ao veterinário do meu Thor aqui em Luís Eduardo Magalhães Animalia pet shop#tamojuntobmd https://t.co/Cq7Az5Lli6',\n",
       " 'ela mt mamãe de pet yeri vc e a chungha seriam melhores amigas https://t.co/2b6kSpqKM7',\n",
       " 'Ele desvaloriza a educação e é pet de partido político, fala de cotas em iniciação científica, o que move avanços no nosso país mas nem sabe como funciona o processo, não é uma competição, é por nota, oferta e demanda. ↓',\n",
       " 'nossa eu tava vendo a hashtag pet regression e age regression no tiktok e notei uma coisa curiosa, pq 99% das pessoas ali eram branco?????',\n",
       " 'Primeira vez que saio do pet  pra almoçar, tô até emocionada kkkkkkkkkk',\n",
       " 'nao tem mamae mais feliz do que mamae de pet',\n",
       " '- qual o nome do pet\\n- bowiv\\n- oi?\\n- bowiv\\n- bowie?\\n- bowiv\\n- só um minuto\\n- ...\\n- qual é o nome do paciente que está aqui?\\n- o nome do meu gato?\\n- isso\\n- bowiv\\n- boUiv?\\n- bowiv\\n- ok https://t.co/PJM4dLawhv',\n",
       " 'O próprio pet',\n",
       " 'eu pagaria p ver alguem levando um peixe p tomar banho em um pet shop',\n",
       " 'Eu falei pra guria da pet que o nome do meu gato era Alfredo ela ficou rindo, não entendi 🤡']"
      ]
     },
     "execution_count": 59,
     "metadata": {},
     "output_type": "execute_result"
    }
   ],
   "source": [
    "list(df_teste.query('sentimento == \"Positivo\"')['tweets'][:10])"
   ]
  },
  {
   "cell_type": "code",
   "execution_count": 60,
   "metadata": {},
   "outputs": [
    {
     "data": {
      "text/plain": [
       "['cara nem me surpreendo, trabalhando no voluntariado eu vejo cada nome dos pet que olha https://t.co/xXFuDnZr2O',\n",
       " 'as fãs do pet canadense nos quotes kkkkkkkk https://t.co/7eMPsGEl7x',\n",
       " 'Petz Seu Pet Center de... oferece vaga para São Paulo-SPBanhista E Tosador Petz Pompéia https://t.co/va8AXbmErH',\n",
       " 'Casadinhos e papais de pet https://t.co/Vdk7g8FViI',\n",
       " 'Cheguei ao ponto do meu amor ser um pet. Seguimos https://t.co/2JHdn2VMJ2 https://t.co/r9S0hLeizU',\n",
       " 'vai ter brasileira, favelada, ex vendendora de pastel, parda, bissexual, vegana, mãe de pet performando no vmas sim 🥂\\n\\nANITTA NO VMAs \\n https://t.co/wiHQccYGn9',\n",
       " 'aqui em palmares trabalhando ao sons de méééééé (a vizinha tem uma pet ovelha)',\n",
       " 'BLOG DO LAURIBERTO: Fortaleza lança Selo Pet Friendly para comércio https://t.co/tiOYVjBgIj https://t.co/ZZMcsfZVvc',\n",
       " 'A ordem de preferência:\\n\\nGilmar Laxante Mendes\\nToffoli\\nLewandowski\\nKassio com K\\nCarmem Lúcia (por ser pet do Laxante) https://t.co/n491GFUM2y',\n",
       " 'A filha levou a sério o papo de que se baixasse o golpe a gente ia entrar no carro e sair daqui... Já veio hj do pet toda trabalhada no tema Argentina! 🇦🇷😂💙 Se bem que eu prefiro Uruguai 🤔🇺🇾 https://t.co/eHn03tuIwe']"
      ]
     },
     "execution_count": 60,
     "metadata": {},
     "output_type": "execute_result"
    }
   ],
   "source": [
    "list(df_teste.query('sentimento == \"Neutro\"')['tweets'][:10])"
   ]
  },
  {
   "cell_type": "code",
   "execution_count": 61,
   "metadata": {},
   "outputs": [
    {
     "data": {
      "text/plain": [
       "['100% mãe de pet, acalmando o filho que tá com medo dos barulhos. https://t.co/zn8u5eMAME',\n",
       " 'Achei foto dos pet da minha tia quando era nenens hehe\\n\\nO gatinho apareceu na loja do meu pai, ai ela adotou hehehehe e o doguinho eu n sei daonde veio https://t.co/X7HRpzwiZh',\n",
       " 'Malu tá no pet desde as 8 da manhã e eu tô sentindo tanta falta dela já',\n",
       " 'Vai ter mutirão de vacinação animal na UBS pet amanhã, mas não vou conseguir ir, eu acho 🤔',\n",
       " 'aí a moça da pet me mandou áudio emocionada dizendo que conseguiu fazer o penteado com o Evi queria nas meninas... estou chorando já faz uns 10min... dia de tosa é um dos dias que mais me deixa triste... ele era quem fazia essa parte 💔😢',\n",
       " 'Queria poder adotar um pet 😔',\n",
       " 'minha mãe não deixou eu fazer jornalismo agora eu vou chorar por duas semanas vendo essa foto pq podia ser eu fazendo carinho em pet de piloto😭😭😭😭😭 https://t.co/pBrUwnqO7t',\n",
       " 'levei meu pet p tô vacina, agr ela tá imunizada',\n",
       " 'Não posso ir em loja de pet...preciso me controlar e comprar só o que eu tava precisando \\nSaio triste das lojas',\n",
       " 'Tava aqui pensando o quão sofrido vai ser pra mim quando tiver que deixar lolo na creche... Eu fiquei triste quando deixei a Lua pela primeira vez numa pet shop pra tomar banho']"
      ]
     },
     "execution_count": 61,
     "metadata": {},
     "output_type": "execute_result"
    }
   ],
   "source": [
    "list(df_teste.query('sentimento == \"Negativo\"')['tweets'][:10])"
   ]
  },
  {
   "cell_type": "code",
   "execution_count": 62,
   "metadata": {},
   "outputs": [
    {
     "data": {
      "text/plain": [
       "Positivo    4234\n",
       "Negativo    3322\n",
       "Neutro      2444\n",
       "Name: sentimento, dtype: int64"
      ]
     },
     "execution_count": 62,
     "metadata": {},
     "output_type": "execute_result"
    }
   ],
   "source": [
    "df_teste['sentimento'].value_counts()"
   ]
  },
  {
   "cell_type": "code",
   "execution_count": 65,
   "metadata": {},
   "outputs": [
    {
     "data": {
      "image/png": "[encoded data removed]",
      "text/plain": [
       "<Figure size 1080x720 with 1 Axes>"
      ]
     },
     "metadata": {
      "needs_background": "light"
     },
     "output_type": "display_data"
    }
   ],
   "source": [
    "plt.figure(figsize=(15,10))\n",
    "ax = sns.countplot(x=\"sentimento\", data=df_teste)\n",
    "plt.xlabel('Sentimento')\n",
    "plt.ylabel('Contagem')\n",
    "plt.show()"
   ]
  }
 ],
 "metadata": {
  "interpreter": {
   "hash": "ea5a58139c1a5c09914b6c59ee56f7bbace3cb5d4afbfc7cf644b61d723a6c24"
  },
  "kernelspec": {
   "display_name": "Python 3.9.7 64-bit",
   "name": "python3"
  },
  "language_info": {
   "codemirror_mode": {
    "name": "ipython",
    "version": 3
   },
   "file_extension": ".py",
   "mimetype": "text/x-python",
   "name": "python",
   "nbconvert_exporter": "python",
   "pygments_lexer": "ipython3",
   "version": "3.9.7"
  },
  "orig_nbformat": 4
 },
 "nbformat": 4,
 "nbformat_minor": 2
}
