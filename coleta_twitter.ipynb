{
 "cells": [
  {
   "cell_type": "markdown",
   "metadata": {},
   "source": [
    "# INTRODUÇÃO\n",
    "\n",
    "Este Notebook tem o objetivo de fazer a conexão com a API do Twitter, utilizando as credenciais fornecidas para realizar a coleta dos tweets.  \n",
    "\n",
    "A coleta de dados possui limites por hora, portanto o ideal é criar uma rotina de coleta de dados.  \n",
    "\n",
    "Para dúvidas de como utilizar a biblioteca ou tentar novas funcionalidades na coleta: https://docs.tweepy.org/en/stable/"
   ]
  },
  {
   "cell_type": "markdown",
   "metadata": {},
   "source": [
    "# PREPARAÇÃO"
   ]
  },
  {
   "cell_type": "markdown",
   "metadata": {},
   "source": [
    "#### IMPORTAÇÃO DAS BIBLIOTECAS"
   ]
  },
  {
   "cell_type": "code",
   "execution_count": 1,
   "metadata": {},
   "outputs": [],
   "source": [
    "import tweepy as tw\n",
    "import pandas as pd"
   ]
  },
  {
   "cell_type": "markdown",
   "metadata": {},
   "source": [
    "#### LENDO AS CREDENCIAIS\n",
    "\n",
    "Verifique se o arquivo de texto com as credenciais e o arquivo deste notebook estão na mesma pasta/caminho."
   ]
  },
  {
   "cell_type": "code",
   "execution_count": 2,
   "metadata": {},
   "outputs": [],
   "source": [
    "with open('twitter-tokens.txt','r') as tfile:\n",
    "  consumer_key = tfile.readline().strip('\\n')\n",
    "  consumer_secret = tfile.readline().strip('\\n')\n",
    "  access_token = tfile.readline().strip('\\n')\n",
    "  access_token_secret = tfile.readline().strip('\\n')"
   ]
  },
  {
   "cell_type": "markdown",
   "metadata": {},
   "source": [
    "#### ACESSANDO A API DO TWITTER"
   ]
  },
  {
   "cell_type": "code",
   "execution_count": 3,
   "metadata": {},
   "outputs": [],
   "source": [
    "auth = tw.OAuthHandler(consumer_key,consumer_secret)\n",
    "auth.set_access_token(access_token,access_token_secret)\n",
    "api = tw.API(auth)"
   ]
  },
  {
   "cell_type": "markdown",
   "metadata": {},
   "source": [
    "# COLETA"
   ]
  },
  {
   "cell_type": "markdown",
   "metadata": {},
   "source": [
    "#### REALIZANDO A QUERY DESEJADA\n",
    "\n",
    "Caso sua versão da biblioteca Tweepy seja mais antiga, o método search_tweets pode se chamar apenas search. Na dúvida verifique a documentação.  \n",
    "\n",
    "Para personalizar sua coleta, alterar os seguintes parâmetros: \n",
    "\n",
    "qtd_tweets - a quantidade total de tweets que serão coletados de uma só vez (verificar quantidade máxima).  \n",
    "palavra_chave - alterar de acordo com o objetivo do estudo/análise.  \n",
    "idioma - serão coletados tweets apenas no idioma indicado.\n",
    "\n",
    "Para alterar outros parâmetros, consultar a documentação."
   ]
  },
  {
   "cell_type": "code",
   "execution_count": 6,
   "metadata": {},
   "outputs": [],
   "source": [
    "qtd_tweets = 1000\n",
    "palavra_chave = 'pet'\n",
    "idioma = 'pt'\n",
    "\n",
    "tweets = []\n",
    "likes = []\n",
    "time = []\n",
    " \n",
    "for i in tw.Cursor(api.search_tweets, q=palavra_chave + ' -filter:retweets', lang=idioma, tweet_mode='extended').items(qtd_tweets):\n",
    "     tweets.append(i.full_text)\n",
    "     likes.append(i.favorite_count)\n",
    "     time.append(i.created_at)"
   ]
  },
  {
   "cell_type": "markdown",
   "metadata": {},
   "source": [
    "#### SALVANDO RESULTADOS EM UM DATAFRAME"
   ]
  },
  {
   "cell_type": "code",
   "execution_count": 7,
   "metadata": {},
   "outputs": [
    {
     "data": {
      "text/html": [
       "<div>\n",
       "<style scoped>\n",
       "    .dataframe tbody tr th:only-of-type {\n",
       "        vertical-align: middle;\n",
       "    }\n",
       "\n",
       "    .dataframe tbody tr th {\n",
       "        vertical-align: top;\n",
       "    }\n",
       "\n",
       "    .dataframe thead th {\n",
       "        text-align: right;\n",
       "    }\n",
       "</style>\n",
       "<table border=\"1\" class=\"dataframe\">\n",
       "  <thead>\n",
       "    <tr style=\"text-align: right;\">\n",
       "      <th></th>\n",
       "      <th>tweets</th>\n",
       "      <th>likes</th>\n",
       "      <th>time</th>\n",
       "    </tr>\n",
       "  </thead>\n",
       "  <tbody>\n",
       "    <tr>\n",
       "      <th>0</th>\n",
       "      <td>Se tivéssemos pacto, como tem o tio Pet, Paran...</td>\n",
       "      <td>0</td>\n",
       "      <td>2022-04-30 20:17:15+00:00</td>\n",
       "    </tr>\n",
       "    <tr>\n",
       "      <th>1</th>\n",
       "      <td>Yago foi buscar a Chloe, nossa nova baby pet 🥹🐶🤏🏻</td>\n",
       "      <td>0</td>\n",
       "      <td>2022-04-30 20:14:09+00:00</td>\n",
       "    </tr>\n",
       "    <tr>\n",
       "      <th>2</th>\n",
       "      <td>NOVO PET SIMULATOR Z: https://t.co/m8eCHBkHlH\\...</td>\n",
       "      <td>1</td>\n",
       "      <td>2022-04-30 20:12:27+00:00</td>\n",
       "    </tr>\n",
       "    <tr>\n",
       "      <th>3</th>\n",
       "      <td>@terapiagora O vídeo é bem feio, mas eu fiquei...</td>\n",
       "      <td>0</td>\n",
       "      <td>2022-04-30 20:12:18+00:00</td>\n",
       "    </tr>\n",
       "    <tr>\n",
       "      <th>4</th>\n",
       "      <td>Ganhei um colar de pet, lindo, lindo!!!!😍</td>\n",
       "      <td>0</td>\n",
       "      <td>2022-04-30 20:12:06+00:00</td>\n",
       "    </tr>\n",
       "    <tr>\n",
       "      <th>...</th>\n",
       "      <td>...</td>\n",
       "      <td>...</td>\n",
       "      <td>...</td>\n",
       "    </tr>\n",
       "    <tr>\n",
       "      <th>995</th>\n",
       "      <td>virei mãe de pet.</td>\n",
       "      <td>0</td>\n",
       "      <td>2022-04-30 00:19:34+00:00</td>\n",
       "    </tr>\n",
       "    <tr>\n",
       "      <th>996</th>\n",
       "      <td>se o pet da miley nao tivesse morrido atualmen...</td>\n",
       "      <td>0</td>\n",
       "      <td>2022-04-30 00:19:11+00:00</td>\n",
       "    </tr>\n",
       "    <tr>\n",
       "      <th>997</th>\n",
       "      <td>sobre ser mãe de pet 🥹 https://t.co/HQuIQgMcnh</td>\n",
       "      <td>22</td>\n",
       "      <td>2022-04-30 00:17:40+00:00</td>\n",
       "    </tr>\n",
       "    <tr>\n",
       "      <th>998</th>\n",
       "      <td>Cachorro fiel segue tutor até hospital, aguard...</td>\n",
       "      <td>1</td>\n",
       "      <td>2022-04-30 00:17:34+00:00</td>\n",
       "    </tr>\n",
       "    <tr>\n",
       "      <th>999</th>\n",
       "      <td>🚨TWEET P VC EXALTAR A BELEZA DO SEU PET COM UM...</td>\n",
       "      <td>7</td>\n",
       "      <td>2022-04-30 00:16:44+00:00</td>\n",
       "    </tr>\n",
       "  </tbody>\n",
       "</table>\n",
       "<p>1000 rows × 3 columns</p>\n",
       "</div>"
      ],
      "text/plain": [
       "                                                tweets  likes  \\\n",
       "0    Se tivéssemos pacto, como tem o tio Pet, Paran...      0   \n",
       "1    Yago foi buscar a Chloe, nossa nova baby pet 🥹🐶🤏🏻      0   \n",
       "2    NOVO PET SIMULATOR Z: https://t.co/m8eCHBkHlH\\...      1   \n",
       "3    @terapiagora O vídeo é bem feio, mas eu fiquei...      0   \n",
       "4            Ganhei um colar de pet, lindo, lindo!!!!😍      0   \n",
       "..                                                 ...    ...   \n",
       "995                                  virei mãe de pet.      0   \n",
       "996  se o pet da miley nao tivesse morrido atualmen...      0   \n",
       "997     sobre ser mãe de pet 🥹 https://t.co/HQuIQgMcnh     22   \n",
       "998  Cachorro fiel segue tutor até hospital, aguard...      1   \n",
       "999  🚨TWEET P VC EXALTAR A BELEZA DO SEU PET COM UM...      7   \n",
       "\n",
       "                         time  \n",
       "0   2022-04-30 20:17:15+00:00  \n",
       "1   2022-04-30 20:14:09+00:00  \n",
       "2   2022-04-30 20:12:27+00:00  \n",
       "3   2022-04-30 20:12:18+00:00  \n",
       "4   2022-04-30 20:12:06+00:00  \n",
       "..                        ...  \n",
       "995 2022-04-30 00:19:34+00:00  \n",
       "996 2022-04-30 00:19:11+00:00  \n",
       "997 2022-04-30 00:17:40+00:00  \n",
       "998 2022-04-30 00:17:34+00:00  \n",
       "999 2022-04-30 00:16:44+00:00  \n",
       "\n",
       "[1000 rows x 3 columns]"
      ]
     },
     "execution_count": 7,
     "metadata": {},
     "output_type": "execute_result"
    }
   ],
   "source": [
    "df = pd.DataFrame({'tweets':tweets, 'likes':likes, 'time':time})\n",
    "df"
   ]
  },
  {
   "cell_type": "markdown",
   "metadata": {},
   "source": [
    "#### SALVANDO O DATAFRAME COMO UM ARQUIVO CSV"
   ]
  },
  {
   "cell_type": "code",
   "execution_count": 8,
   "metadata": {},
   "outputs": [],
   "source": [
    "# df.to_csv('resultados_coleta.csv',index=False)"
   ]
  }
 ],
 "metadata": {
  "interpreter": {
   "hash": "ea5a58139c1a5c09914b6c59ee56f7bbace3cb5d4afbfc7cf644b61d723a6c24"
  },
  "kernelspec": {
   "display_name": "Python 3.9.7 64-bit",
   "language": "python",
   "name": "python3"
  },
  "language_info": {
   "codemirror_mode": {
    "name": "ipython",
    "version": 3
   },
   "file_extension": ".py",
   "mimetype": "text/x-python",
   "name": "python",
   "nbconvert_exporter": "python",
   "pygments_lexer": "ipython3",
   "version": "3.9.7"
  },
  "orig_nbformat": 4
 },
 "nbformat": 4,
 "nbformat_minor": 2
}
